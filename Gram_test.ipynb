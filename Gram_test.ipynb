{
 "cells": [
  {
   "cell_type": "code",
   "execution_count": null,
   "metadata": {},
   "outputs": [],
   "source": [
    "from IMP_gram import parser\n",
    "from IMP_lex import lexer"
   ]
  },
  {
   "cell_type": "code",
   "execution_count": null,
   "metadata": {},
   "outputs": [],
   "source": [
    "parser.parse(input = \"a := 4;\", lexer = lexer)"
   ]
  },
  {
   "cell_type": "code",
   "execution_count": null,
   "metadata": {},
   "outputs": [],
   "source": [
    "parser.parse(input = \"a := 4; input b; print b;\", lexer = lexer)"
   ]
  },
  {
   "cell_type": "code",
   "execution_count": null,
   "metadata": {},
   "outputs": [],
   "source": [
    "parser.parse(input = \"a := 4; b := 5; if (a <= b) then { print b; } else { print a; } end\", lexer = lexer)"
   ]
  },
  {
   "cell_type": "code",
   "execution_count": null,
   "metadata": {},
   "outputs": [],
   "source": [
    "parser.parse(input = \"a := 4; b := 5; c := a + b; print c;\", lexer = lexer)"
   ]
  },
  {
   "cell_type": "code",
   "execution_count": null,
   "metadata": {},
   "outputs": [],
   "source": [
    "parser.parse(input = \"a := 4; b := 5; while (a <= 10) do { a := a + 1; print a; } end\", lexer = lexer)"
   ]
  },
  {
   "cell_type": "code",
   "execution_count": null,
   "metadata": {},
   "outputs": [],
   "source": [
    "parser.parse(input = \"x := 1 + 2 * 3; y := 1; z := 1; while y <= 10 do { z := z * y; y := y + 1 } end\", lexer = lexer) "
   ]
  },
  {
   "cell_type": "markdown",
   "metadata": {},
   "source": [
    "### Frontend Testing "
   ]
  },
  {
   "cell_type": "code",
   "execution_count": null,
   "metadata": {},
   "outputs": [],
   "source": [
    "from IMP_frontend_gram import parser\n",
    "from IMP_lex import lexer\n",
    "from IMP_state import state\n",
    "from grammar_stuff import dump_AST"
   ]
  },
  {
   "cell_type": "code",
   "execution_count": null,
   "metadata": {},
   "outputs": [],
   "source": [
    "state.initialize()\n"
   ]
  },
  {
   "cell_type": "code",
   "execution_count": null,
   "metadata": {},
   "outputs": [],
   "source": [
    "parser.parse(\"\", lexer = lexer)"
   ]
  },
  {
   "cell_type": "code",
   "execution_count": null,
   "metadata": {},
   "outputs": [],
   "source": [
    "parser.parse(\"a := 4;\", lexer = lexer)"
   ]
  },
  {
   "cell_type": "code",
   "execution_count": null,
   "metadata": {},
   "outputs": [],
   "source": [
    "dump_AST(state.AST)"
   ]
  },
  {
   "cell_type": "code",
   "execution_count": null,
   "metadata": {},
   "outputs": [],
   "source": [
    "state.symbol_table"
   ]
  },
  {
   "cell_type": "code",
   "execution_count": null,
   "metadata": {},
   "outputs": [],
   "source": [
    "parser.parse(\"a := 4; print a;\", lexer = lexer)"
   ]
  },
  {
   "cell_type": "code",
   "execution_count": null,
   "metadata": {},
   "outputs": [],
   "source": [
    "dump_AST(state.AST)"
   ]
  },
  {
   "cell_type": "code",
   "execution_count": null,
   "metadata": {},
   "outputs": [],
   "source": [
    "state.symbol_table"
   ]
  },
  {
   "cell_type": "code",
   "execution_count": null,
   "metadata": {},
   "outputs": [],
   "source": [
    "parser.parse(input = \"a := 4; input b; print b;\", lexer = lexer)"
   ]
  },
  {
   "cell_type": "code",
   "execution_count": null,
   "metadata": {},
   "outputs": [],
   "source": [
    "dump_AST(state.AST)"
   ]
  },
  {
   "cell_type": "code",
   "execution_count": 19,
   "metadata": {},
   "outputs": [
    {
     "data": {
      "text/plain": [
       "{'a': None, 'b': None}"
      ]
     },
     "execution_count": 19,
     "metadata": {},
     "output_type": "execute_result"
    }
   ],
   "source": [
    "state.symbol_table"
   ]
  },
  {
   "cell_type": "code",
   "execution_count": 20,
   "metadata": {},
   "outputs": [],
   "source": [
    "parser.parse(input = \"a := 4; b := 5; if (a <= b) then { print b; } else { print a; } end\", lexer = lexer)"
   ]
  },
  {
   "cell_type": "code",
   "execution_count": 21,
   "metadata": {},
   "outputs": [
    {
     "name": "stdout",
     "output_type": "stream",
     "text": [
      "\n",
      "(seq \n",
      "  |(assign a \n",
      "  |  |(integer 4)) \n",
      "  |(seq \n",
      "  |  |(assign b \n",
      "  |  |  |(integer 5)) \n",
      "  |  |(seq \n",
      "  |  |  |(if \n",
      "  |  |  |  |(<= \n",
      "  |  |  |  |  |(id a) \n",
      "  |  |  |  |  |(id b)) \n",
      "  |  |  |  |(block \n",
      "  |  |  |  |  |(seq \n",
      "  |  |  |  |  |  |(print \n",
      "  |  |  |  |  |  |  |(id b)) \n",
      "  |  |  |  |  |  |(nil))) \n",
      "  |  |  |  |(block \n",
      "  |  |  |  |  |(seq \n",
      "  |  |  |  |  |  |(print \n",
      "  |  |  |  |  |  |  |(id a)) \n",
      "  |  |  |  |  |  |(nil)))) \n",
      "  |  |  |(nil))))\n"
     ]
    }
   ],
   "source": [
    "dump_AST(state.AST)"
   ]
  },
  {
   "cell_type": "code",
   "execution_count": 22,
   "metadata": {},
   "outputs": [
    {
     "data": {
      "text/plain": [
       "{'a': None, 'b': None}"
      ]
     },
     "execution_count": 22,
     "metadata": {},
     "output_type": "execute_result"
    }
   ],
   "source": [
    "state.symbol_table"
   ]
  },
  {
   "cell_type": "code",
   "execution_count": 23,
   "metadata": {},
   "outputs": [],
   "source": [
    "parser.parse(input = \"a := 4; b := 5; while (a <= 10) do { print a; a:= a + 1; } end\", lexer = lexer)"
   ]
  },
  {
   "cell_type": "code",
   "execution_count": 24,
   "metadata": {},
   "outputs": [
    {
     "data": {
      "text/plain": [
       "{'a': None, 'b': None}"
      ]
     },
     "execution_count": 24,
     "metadata": {},
     "output_type": "execute_result"
    }
   ],
   "source": [
    "state.symbol_table"
   ]
  },
  {
   "cell_type": "markdown",
   "metadata": {},
   "source": [
    "### Running the Interpreter "
   ]
  },
  {
   "cell_type": "code",
   "execution_count": 25,
   "metadata": {},
   "outputs": [],
   "source": [
    "# import the interpreter\n",
    "from IMP_interp import interp"
   ]
  },
  {
   "cell_type": "code",
   "execution_count": 26,
   "metadata": {},
   "outputs": [
    {
     "name": "stdout",
     "output_type": "stream",
     "text": [
      "4\n"
     ]
    }
   ],
   "source": [
    "# Interpret Program 1\n",
    "p1 = \\\n",
    "'''\n",
    "a := 4;\n",
    "print a;\n",
    "'''\n",
    "interp(p1)"
   ]
  },
  {
   "cell_type": "code",
   "execution_count": 27,
   "metadata": {},
   "outputs": [
    {
     "name": "stdout",
     "output_type": "stream",
     "text": [
      "4\n",
      "Value for b? 4\n",
      "4\n"
     ]
    }
   ],
   "source": [
    "p2 = \\\n",
    "'''\n",
    "a := 4;\n",
    "print a;\n",
    "input b;\n",
    "print b;\n",
    "'''\n",
    "interp(p2)"
   ]
  },
  {
   "cell_type": "code",
   "execution_count": null,
   "metadata": {
    "scrolled": true
   },
   "outputs": [],
   "source": [
    "p2 = \\\n",
    "'''\n",
    "input a;\n",
    "input b;\n",
    "if (a != b) then\n",
    "{\n",
    "    print 0;\n",
    "}\n",
    "end\n",
    "'''\n",
    "interp(p2)"
   ]
  },
  {
   "cell_type": "code",
   "execution_count": 29,
   "metadata": {},
   "outputs": [
    {
     "name": "stdout",
     "output_type": "stream",
     "text": [
      "5\n"
     ]
    }
   ],
   "source": [
    "p3 = \\\n",
    "'''\n",
    "a := 4; b := 5; if (a <= b) then { print b; } else { print a; } end\n",
    "'''\n",
    "interp(p3)"
   ]
  },
  {
   "cell_type": "code",
   "execution_count": 30,
   "metadata": {},
   "outputs": [
    {
     "name": "stdout",
     "output_type": "stream",
     "text": [
      "5\n"
     ]
    }
   ],
   "source": [
    "p3 = \\\n",
    "'''\n",
    "# prints the larger number\n",
    "a := 4; b := 5; if (a <= b) then { print b; } else { print a; } end\n",
    "'''\n",
    "interp(p3)"
   ]
  },
  {
   "cell_type": "code",
   "execution_count": 31,
   "metadata": {},
   "outputs": [
    {
     "name": "stdout",
     "output_type": "stream",
     "text": [
      "1\n",
      "2\n",
      "3\n",
      "4\n",
      "5\n",
      "6\n",
      "7\n",
      "8\n",
      "9\n",
      "10\n"
     ]
    }
   ],
   "source": [
    "p5 = \\\n",
    "'''\n",
    "# prints list of integers\n",
    "a := 1; while (a <= 10) do \n",
    "{ print a; a := a + 1; } \n",
    "end\n",
    "'''\n",
    "interp(p5)\n"
   ]
  },
  {
   "cell_type": "code",
   "execution_count": 32,
   "metadata": {
    "scrolled": true
   },
   "outputs": [
    {
     "name": "stdout",
     "output_type": "stream",
     "text": [
      "Value for a? 4\n",
      "Value for b? 5\n",
      "4\n"
     ]
    }
   ],
   "source": [
    "p2 = \\\n",
    "'''\n",
    "input a;\n",
    "input b;\n",
    "if (a > 0) then\n",
    "{\n",
    "print a;\n",
    "}\n",
    "end\n",
    "'''\n",
    "interp(p2)"
   ]
  },
  {
   "cell_type": "code",
   "execution_count": 33,
   "metadata": {},
   "outputs": [
    {
     "name": "stdout",
     "output_type": "stream",
     "text": [
      "Value for a? 6\n",
      "0\n"
     ]
    }
   ],
   "source": [
    "p2 = \\\n",
    "'''\n",
    "input a;\n",
    "b := nota;\n",
    "print b;\n",
    "'''\n",
    "interp(p2)"
   ]
  },
  {
   "cell_type": "code",
   "execution_count": 40,
   "metadata": {},
   "outputs": [
    {
     "name": "stdout",
     "output_type": "stream",
     "text": [
      "9\n"
     ]
    }
   ],
   "source": [
    "p2 = \\\n",
    "'''\n",
    "a := 4;\n",
    "b := 5;\n",
    "c := a+b;\n",
    "print c;\n",
    "'''\n",
    "interp(p2)"
   ]
  },
  {
   "cell_type": "code",
   "execution_count": 46,
   "metadata": {},
   "outputs": [
    {
     "name": "stdout",
     "output_type": "stream",
     "text": [
      "7\n",
      "11\n",
      "3628800\n"
     ]
    }
   ],
   "source": [
    "p1 = \\\n",
    "'''\n",
    "a := 1 + 2 * 3;\n",
    "b := 1;\n",
    "c := 1;\n",
    "while (b <= 10) do \n",
    "{\n",
    "    c := c * b;\n",
    "    b := b + 1; \n",
    "}\n",
    "end \n",
    "print a;\n",
    "print b;\n",
    "print c;\n",
    "\n",
    "'''\n",
    "interp(p1)"
   ]
  },
  {
   "cell_type": "code",
   "execution_count": 47,
   "metadata": {},
   "outputs": [
    {
     "data": {
      "text/plain": [
       "3628800"
      ]
     },
     "execution_count": 47,
     "metadata": {},
     "output_type": "execute_result"
    }
   ],
   "source": [
    "10*9*8*7*6*5*4*3*2*1\n"
   ]
  },
  {
   "cell_type": "code",
   "execution_count": 59,
   "metadata": {},
   "outputs": [
    {
     "name": "stdout",
     "output_type": "stream",
     "text": [
      "Value for n? 6\n",
      "21\n"
     ]
    }
   ],
   "source": [
    "p2 = \\\n",
    "'''\n",
    "input n;\n",
    "i := 1;\n",
    "sum := 0; \n",
    "while (i <= n) do\n",
    "{\n",
    "    sum := sum + i;\n",
    "    i := i + 1;\n",
    "}    \n",
    "end\n",
    "print sum;\n",
    "'''\n",
    "interp(p2)"
   ]
  },
  {
   "cell_type": "code",
   "execution_count": 62,
   "metadata": {},
   "outputs": [
    {
     "name": "stdout",
     "output_type": "stream",
     "text": [
      "Value for a? 12\n",
      "Value for b? 14\n",
      "Value for c? 11\n",
      "14\n"
     ]
    }
   ],
   "source": [
    "p3 = \\\n",
    "'''\n",
    "input a;\n",
    "input b;\n",
    "input c;\n",
    "if (a > b) then\n",
    "{ \n",
    " if (a > c) then\n",
    " {\n",
    "    print b;\n",
    " }\n",
    " else\n",
    " {\n",
    "    print c;\n",
    " }\n",
    " end   \n",
    "}\n",
    "else \n",
    "{ \n",
    " if (b > c) then\n",
    " {\n",
    "    print b;\n",
    " }   \n",
    " else\n",
    " {\n",
    "    print c;\n",
    " }\n",
    " end   \n",
    "} \n",
    "end\n",
    "'''\n",
    "interp(p3)"
   ]
  },
  {
   "cell_type": "code",
   "execution_count": null,
   "metadata": {},
   "outputs": [],
   "source": []
  }
 ],
 "metadata": {
  "kernelspec": {
   "display_name": "Python 3",
   "language": "python",
   "name": "python3"
  },
  "language_info": {
   "codemirror_mode": {
    "name": "ipython",
    "version": 3
   },
   "file_extension": ".py",
   "mimetype": "text/x-python",
   "name": "python",
   "nbconvert_exporter": "python",
   "pygments_lexer": "ipython3",
   "version": "3.7.3"
  }
 },
 "nbformat": 4,
 "nbformat_minor": 2
}
