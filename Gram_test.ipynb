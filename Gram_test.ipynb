{
 "cells": [
  {
   "cell_type": "code",
   "execution_count": 32,
   "metadata": {},
   "outputs": [],
   "source": [
    "from IMP_gram import parser\n",
    "from IMP_lex import lexer"
   ]
  },
  {
   "cell_type": "code",
   "execution_count": 33,
   "metadata": {},
   "outputs": [],
   "source": [
    "parser.parse(input = \"a := 4;\", lexer = lexer)"
   ]
  },
  {
   "cell_type": "code",
   "execution_count": 34,
   "metadata": {},
   "outputs": [],
   "source": [
    "parser.parse(input = \"a := 4; get b; put b;\", lexer = lexer)"
   ]
  },
  {
   "cell_type": "code",
   "execution_count": 35,
   "metadata": {},
   "outputs": [],
   "source": [
    "parser.parse(input = \"a := 4; b := 5; if (a <= b) then { put b; } else { put a; } end\", lexer = lexer)"
   ]
  },
  {
   "cell_type": "code",
   "execution_count": 45,
   "metadata": {},
   "outputs": [],
   "source": [
    "parser.parse(input = \"a := 4; b := 5; c := a + b; put c;\", lexer = lexer)"
   ]
  },
  {
   "cell_type": "code",
   "execution_count": 36,
   "metadata": {},
   "outputs": [],
   "source": [
    "parser.parse(input = \"a := 4; b := 5; while (a <= 10) do { a := a + 1; put a; } end\", lexer = lexer)"
   ]
  },
  {
   "cell_type": "markdown",
   "metadata": {},
   "source": [
    "### Frontend Testing "
   ]
  },
  {
   "cell_type": "code",
   "execution_count": 37,
   "metadata": {},
   "outputs": [],
   "source": [
    "from IMP_frontend_gram import parser\n",
    "from IMP_lex import lexer\n",
    "from IMP_state import state\n",
    "from grammar_stuff import dump_AST"
   ]
  },
  {
   "cell_type": "code",
   "execution_count": 38,
   "metadata": {},
   "outputs": [],
   "source": [
    "state.initialize()\n"
   ]
  },
  {
   "cell_type": "code",
   "execution_count": 39,
   "metadata": {},
   "outputs": [],
   "source": [
    "parser.parse(\"\", lexer = lexer)"
   ]
  },
  {
   "cell_type": "code",
   "execution_count": 40,
   "metadata": {},
   "outputs": [],
   "source": [
    "parser.parse(\"a := 4;\", lexer = lexer)"
   ]
  },
  {
   "cell_type": "code",
   "execution_count": 41,
   "metadata": {},
   "outputs": [
    {
     "name": "stdout",
     "output_type": "stream",
     "text": [
      "\n",
      "(seq \n",
      "  |(assign a \n",
      "  |  |(integer 4)) \n",
      "  |(nil))\n"
     ]
    }
   ],
   "source": [
    "dump_AST(state.AST)"
   ]
  },
  {
   "cell_type": "code",
   "execution_count": 42,
   "metadata": {},
   "outputs": [
    {
     "data": {
      "text/plain": [
       "{'a': None}"
      ]
     },
     "execution_count": 42,
     "metadata": {},
     "output_type": "execute_result"
    }
   ],
   "source": [
    "state.symbol_table"
   ]
  },
  {
   "cell_type": "code",
   "execution_count": 12,
   "metadata": {},
   "outputs": [],
   "source": [
    "parser.parse(\"a := 4; put a;\", lexer = lexer)"
   ]
  },
  {
   "cell_type": "code",
   "execution_count": 13,
   "metadata": {},
   "outputs": [],
   "source": [
    "dump_AST(state.AST)"
   ]
  },
  {
   "cell_type": "code",
   "execution_count": 14,
   "metadata": {},
   "outputs": [],
   "source": [
    "state.symbol_table"
   ]
  },
  {
   "cell_type": "code",
   "execution_count": 15,
   "metadata": {},
   "outputs": [],
   "source": [
    "parser.parse(input = \"a := 4; get b; put b;\", lexer = lexer)"
   ]
  },
  {
   "cell_type": "code",
   "execution_count": 16,
   "metadata": {},
   "outputs": [],
   "source": [
    "dump_AST(state.AST)"
   ]
  },
  {
   "cell_type": "code",
   "execution_count": 17,
   "metadata": {},
   "outputs": [],
   "source": [
    "state.symbol_table"
   ]
  },
  {
   "cell_type": "code",
   "execution_count": 18,
   "metadata": {},
   "outputs": [],
   "source": [
    "parser.parse(input = \"a := 4; b := 5; if (a <= b) then { put b; } else { put a; } end\", lexer = lexer)"
   ]
  },
  {
   "cell_type": "code",
   "execution_count": 19,
   "metadata": {},
   "outputs": [],
   "source": [
    "dump_AST(state.AST)"
   ]
  },
  {
   "cell_type": "code",
   "execution_count": 20,
   "metadata": {},
   "outputs": [],
   "source": [
    "state.symbol_table"
   ]
  },
  {
   "cell_type": "code",
   "execution_count": 21,
   "metadata": {},
   "outputs": [],
   "source": [
    "parser.parse(input = \"a := 4; b := 5; while (a <= 10) do { put a; a:= a + 1; } end\", lexer = lexer)"
   ]
  },
  {
   "cell_type": "code",
   "execution_count": 22,
   "metadata": {},
   "outputs": [],
   "source": [
    "state.symbol_table"
   ]
  },
  {
   "cell_type": "markdown",
   "metadata": {},
   "source": [
    "### Running the Interpreter "
   ]
  },
  {
   "cell_type": "code",
   "execution_count": 23,
   "metadata": {},
   "outputs": [],
   "source": [
    "# import the interpreter\n",
    "from IMP_interp import interp"
   ]
  },
  {
   "cell_type": "code",
   "execution_count": 24,
   "metadata": {},
   "outputs": [
    {
     "name": "stdout",
     "output_type": "stream",
     "text": [
      "> 4\n"
     ]
    }
   ],
   "source": [
    "# Interpret Program 1\n",
    "p1 = \\\n",
    "'''\n",
    "a := 4;\n",
    "put a;\n",
    "'''\n",
    "interp(p1)"
   ]
  },
  {
   "cell_type": "code",
   "execution_count": 25,
   "metadata": {},
   "outputs": [
    {
     "name": "stdout",
     "output_type": "stream",
     "text": [
      "> 4\n",
      "Value for b? 4\n",
      "> 4\n"
     ]
    }
   ],
   "source": [
    "p2 = \\\n",
    "'''\n",
    "a := 4;\n",
    "put a;\n",
    "get b;\n",
    "put b;\n",
    "'''\n",
    "interp(p2)"
   ]
  },
  {
   "cell_type": "code",
   "execution_count": 26,
   "metadata": {
    "scrolled": true
   },
   "outputs": [
    {
     "name": "stdout",
     "output_type": "stream",
     "text": [
      "Value for a? 5\n",
      "Value for b? 6\n",
      "> 5\n"
     ]
    }
   ],
   "source": [
    "p2 = \\\n",
    "'''\n",
    "get a;\n",
    "get b;\n",
    "if (a <= b && a > 0) then\n",
    "{\n",
    "put a;\n",
    "}\n",
    "end\n",
    "'''\n",
    "interp(p2)"
   ]
  },
  {
   "cell_type": "code",
   "execution_count": 27,
   "metadata": {},
   "outputs": [
    {
     "name": "stdout",
     "output_type": "stream",
     "text": [
      "> 5\n"
     ]
    }
   ],
   "source": [
    "p3 = \\\n",
    "'''\n",
    "a := 4; b := 5; if (a <= b) then { put b; } else { put a; } end\n",
    "'''\n",
    "interp(p3)"
   ]
  },
  {
   "cell_type": "code",
   "execution_count": 28,
   "metadata": {},
   "outputs": [
    {
     "name": "stdout",
     "output_type": "stream",
     "text": [
      "> 5\n"
     ]
    }
   ],
   "source": [
    "p3 = \\\n",
    "'''\n",
    "# prints the larger number\n",
    "a := 4; b := 5; if (a <= b) then { put b; } else { put a; } end\n",
    "'''\n",
    "interp(p3)"
   ]
  },
  {
   "cell_type": "code",
   "execution_count": 29,
   "metadata": {},
   "outputs": [
    {
     "name": "stdout",
     "output_type": "stream",
     "text": [
      "> 1\n",
      "> 2\n",
      "> 3\n",
      "> 4\n",
      "> 5\n",
      "> 6\n",
      "> 7\n",
      "> 8\n",
      "> 9\n",
      "> 10\n"
     ]
    }
   ],
   "source": [
    "p5 = \\\n",
    "'''\n",
    "# prints list of integers\n",
    "a := 1; while (a <= 10) do \n",
    "{ put a; a := a + 1; } \n",
    "end\n",
    "'''\n",
    "interp(p5)\n"
   ]
  },
  {
   "cell_type": "code",
   "execution_count": 30,
   "metadata": {
    "scrolled": true
   },
   "outputs": [
    {
     "name": "stdout",
     "output_type": "stream",
     "text": [
      "Syntax error at 'or'\n",
      "Syntax error at 'end'\n"
     ]
    }
   ],
   "source": [
    "p2 = \\\n",
    "'''\n",
    "get a;\n",
    "get b;\n",
    "if (a <= b or a > 0) then\n",
    "{\n",
    "put a;\n",
    "}\n",
    "end\n",
    "'''\n",
    "interp(p2)"
   ]
  },
  {
   "cell_type": "code",
   "execution_count": 31,
   "metadata": {},
   "outputs": [
    {
     "name": "stdout",
     "output_type": "stream",
     "text": [
      "Syntax error at '!'\n",
      "> 0\n"
     ]
    }
   ],
   "source": [
    "p2 = \\\n",
    "'''\n",
    "get a;\n",
    "b := !a;\n",
    "put b;\n",
    "'''\n",
    "interp(p2)"
   ]
  },
  {
   "cell_type": "code",
   "execution_count": 46,
   "metadata": {},
   "outputs": [
    {
     "name": "stdout",
     "output_type": "stream",
     "text": [
      "> 9\n"
     ]
    }
   ],
   "source": [
    "p2 = \\\n",
    "'''\n",
    "a := 4;\n",
    "b := 5;\n",
    "c := a+b;\n",
    "put c;\n",
    "'''\n",
    "interp(p2)"
   ]
  },
  {
   "cell_type": "code",
   "execution_count": null,
   "metadata": {},
   "outputs": [],
   "source": []
  },
  {
   "cell_type": "code",
   "execution_count": null,
   "metadata": {},
   "outputs": [],
   "source": []
  }
 ],
 "metadata": {
  "kernelspec": {
   "display_name": "Python 3",
   "language": "python",
   "name": "python3"
  },
  "language_info": {
   "codemirror_mode": {
    "name": "ipython",
    "version": 3
   },
   "file_extension": ".py",
   "mimetype": "text/x-python",
   "name": "python",
   "nbconvert_exporter": "python",
   "pygments_lexer": "ipython3",
   "version": "3.7.3"
  }
 },
 "nbformat": 4,
 "nbformat_minor": 2
}
