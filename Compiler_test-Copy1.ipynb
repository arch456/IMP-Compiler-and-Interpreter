{
 "cells": [
  {
   "cell_type": "code",
   "execution_count": 1,
   "metadata": {},
   "outputs": [],
   "source": [
    "from IMP_lex import lexer\n",
    "from IMP_frontend_gram import parser\n",
    "from IMP_state import state\n",
    "from grammar_stuff import dump_AST\n",
    "from IMP_cc_codegen import walk as codegen\n",
    "from IMP_cc_output import output\n",
    "from pprint import pprint"
   ]
  },
  {
   "cell_type": "code",
   "execution_count": 2,
   "metadata": {},
   "outputs": [],
   "source": [
    "program1 = \\\n",
    "'''\n",
    "x := 1;\n",
    "put x;\n",
    "'''"
   ]
  },
  {
   "cell_type": "code",
   "execution_count": 3,
   "metadata": {
    "scrolled": true
   },
   "outputs": [
    {
     "name": "stdout",
     "output_type": "stream",
     "text": [
      "\n",
      "(seq \n",
      "  |(assign x \n",
      "  |  |(integer 1)) \n",
      "  |(seq \n",
      "  |  |(put \n",
      "  |  |  |(id x)) \n",
      "  |  |(nil)))\n"
     ]
    }
   ],
   "source": [
    "parser.parse(program1, lexer = lexer)\n",
    "dump_AST(state.AST)"
   ]
  },
  {
   "cell_type": "code",
   "execution_count": 4,
   "metadata": {},
   "outputs": [
    {
     "name": "stdout",
     "output_type": "stream",
     "text": [
      "[('iconst_1',),\n",
      " ('istore_0',),\n",
      " ('invokevirtual',),\n",
      " ('return',)]\n"
     ]
    }
   ],
   "source": [
    "instr_tuples = codegen(state.AST)\n",
    "pprint(instr_tuples, width = 20)"
   ]
  },
  {
   "cell_type": "code",
   "execution_count": 5,
   "metadata": {},
   "outputs": [
    {
     "name": "stdout",
     "output_type": "stream",
     "text": [
      "\t0: iconst_1 \n",
      "\t1: istore_0 \n",
      "\t2: invokevirtual \n",
      "\t3: return \n",
      "\n"
     ]
    }
   ],
   "source": [
    "jvmbytecode1 = output(instr_tuples)\n",
    "print(jvmbytecode1) # translated code"
   ]
  },
  {
   "cell_type": "code",
   "execution_count": 6,
   "metadata": {},
   "outputs": [],
   "source": [
    "program2 = \\\n",
    "'''\n",
    "get x;\n",
    "put x;\n",
    "'''"
   ]
  },
  {
   "cell_type": "code",
   "execution_count": 7,
   "metadata": {},
   "outputs": [
    {
     "name": "stdout",
     "output_type": "stream",
     "text": [
      "\n",
      "(seq \n",
      "  |(get x) \n",
      "  |(seq \n",
      "  |  |(put \n",
      "  |  |  |(id x)) \n",
      "  |  |(nil)))\n"
     ]
    }
   ],
   "source": [
    "parser.parse(program2, lexer = lexer)\n",
    "dump_AST(state.AST)"
   ]
  },
  {
   "cell_type": "code",
   "execution_count": 8,
   "metadata": {},
   "outputs": [
    {
     "name": "stdout",
     "output_type": "stream",
     "text": [
      "4\n",
      "[('invokevirtual',),\n",
      " ('istore_0',),\n",
      " ('invokevirtual',),\n",
      " ('return',)]\n"
     ]
    }
   ],
   "source": [
    "instr_tuples = codegen(state.AST)\n",
    "pprint(instr_tuples, width = 20)"
   ]
  },
  {
   "cell_type": "code",
   "execution_count": 9,
   "metadata": {},
   "outputs": [
    {
     "name": "stdout",
     "output_type": "stream",
     "text": [
      "\t0: invokevirtual \n",
      "\t1: istore_0 \n",
      "\t2: invokevirtual \n",
      "\t3: return \n",
      "\n"
     ]
    }
   ],
   "source": [
    "jvmbytecode2 = output(instr_tuples)\n",
    "print(jvmbytecode2) # translated code"
   ]
  },
  {
   "cell_type": "code",
   "execution_count": 10,
   "metadata": {},
   "outputs": [],
   "source": [
    "program3 = \\\n",
    "'''\n",
    "a := 4; \n",
    "b := 5; \n",
    "c := a + b; \n",
    "put c;\n",
    "'''"
   ]
  },
  {
   "cell_type": "code",
   "execution_count": 11,
   "metadata": {
    "scrolled": true
   },
   "outputs": [
    {
     "name": "stdout",
     "output_type": "stream",
     "text": [
      "\n",
      "(seq \n",
      "  |(assign a \n",
      "  |  |(integer 4)) \n",
      "  |(seq \n",
      "  |  |(assign b \n",
      "  |  |  |(integer 5)) \n",
      "  |  |(seq \n",
      "  |  |  |(assign c \n",
      "  |  |  |  |(+ \n",
      "  |  |  |  |  |(id a) \n",
      "  |  |  |  |  |(id b))) \n",
      "  |  |  |(seq \n",
      "  |  |  |  |(put \n",
      "  |  |  |  |  |(id c)) \n",
      "  |  |  |  |(nil)))))\n"
     ]
    }
   ],
   "source": [
    "parser.parse(program3, lexer = lexer)\n",
    "dump_AST(state.AST)"
   ]
  },
  {
   "cell_type": "code",
   "execution_count": 12,
   "metadata": {},
   "outputs": [
    {
     "name": "stdout",
     "output_type": "stream",
     "text": [
      "a b ('id', 'a') ('id', 'b')\n",
      "[('iconst_4',),\n",
      " ('istore_0',),\n",
      " ('iconst_5',),\n",
      " ('istore_1',),\n",
      " ('iload_0',),\n",
      " ('iload_1',),\n",
      " ('iadd',),\n",
      " ('istore_2',),\n",
      " ('invokevirtual',),\n",
      " ('return',)]\n"
     ]
    }
   ],
   "source": [
    "instr_tuples = codegen(state.AST)\n",
    "pprint(instr_tuples, width = 20)"
   ]
  },
  {
   "cell_type": "code",
   "execution_count": 13,
   "metadata": {},
   "outputs": [
    {
     "name": "stdout",
     "output_type": "stream",
     "text": [
      "\t0: iconst_4 \n",
      "\t1: istore_0 \n",
      "\t2: iconst_5 \n",
      "\t3: istore_1 \n",
      "\t4: iload_0 \n",
      "\t5: iload_1 \n",
      "\t6: iadd \n",
      "\t7: istore_2 \n",
      "\t8: invokevirtual \n",
      "\t9: return \n",
      "\n"
     ]
    }
   ],
   "source": [
    "jvmbytecode = output(instr_tuples)\n",
    "print(jvmbytecode) # translated code"
   ]
  },
  {
   "cell_type": "code",
   "execution_count": 14,
   "metadata": {},
   "outputs": [],
   "source": [
    "program = \\\n",
    "'''\n",
    "i := 0;\n",
    "while(i < 2) do\n",
    "{\n",
    "        i := i + 1;\n",
    "}\n",
    "end\n",
    "'''"
   ]
  },
  {
   "cell_type": "code",
   "execution_count": 15,
   "metadata": {},
   "outputs": [
    {
     "name": "stdout",
     "output_type": "stream",
     "text": [
      "\n",
      "(seq \n",
      "  |(assign i \n",
      "  |  |(integer 0)) \n",
      "  |(seq \n",
      "  |  |(while \n",
      "  |  |  |(< \n",
      "  |  |  |  |(id i) \n",
      "  |  |  |  |(integer 2)) \n",
      "  |  |  |(block \n",
      "  |  |  |  |(seq \n",
      "  |  |  |  |  |(assign i \n",
      "  |  |  |  |  |  |(+ \n",
      "  |  |  |  |  |  |  |(id i) \n",
      "  |  |  |  |  |  |  |(integer 1))) \n",
      "  |  |  |  |  |(nil)))) \n",
      "  |  |(nil)))\n"
     ]
    }
   ],
   "source": [
    "parser.parse(program, lexer = lexer)\n",
    "dump_AST(state.AST)"
   ]
  },
  {
   "cell_type": "code",
   "execution_count": 16,
   "metadata": {},
   "outputs": [
    {
     "name": "stdout",
     "output_type": "stream",
     "text": [
      "i 2 ('id', 'i') ('integer', 2)\n",
      "i 1 ('id', 'i') ('integer', 1)\n",
      "[('iconst_0',),\n",
      " ('istore_0',),\n",
      " ('L0:',),\n",
      " ('iload_0',),\n",
      " ('iconst_2',),\n",
      " ('if_icmpge\\tL2',),\n",
      " ('L1:',),\n",
      " ('iload_1',),\n",
      " ('iload_2',),\n",
      " ('iadd',),\n",
      " ('istore_1',),\n",
      " ('return',),\n",
      " ('goto\\tL0',),\n",
      " ('L2:',),\n",
      " ('return',)]\n"
     ]
    }
   ],
   "source": [
    "instr_tuples = codegen(state.AST)\n",
    "pprint(instr_tuples, width = 20)"
   ]
  },
  {
   "cell_type": "code",
   "execution_count": 17,
   "metadata": {},
   "outputs": [
    {
     "name": "stdout",
     "output_type": "stream",
     "text": [
      "\t0: iconst_0 \n",
      "\t1: istore_0 \n",
      "L0:\n",
      "\t2: iload_0 \n",
      "\t3: iconst_2 \n",
      "\t4: if_icmpge\tL2 \n",
      "L1:\n",
      "\t5: iload_1 \n",
      "\t6: iload_2 \n",
      "\t7: iadd \n",
      "\t8: istore_1 \n",
      "\t9: return \n",
      "\t10: goto\tL0 \n",
      "L2:\n",
      "\t11: return \n",
      "\n"
     ]
    }
   ],
   "source": [
    "jvmbytecode = output(instr_tuples)\n",
    "print(jvmbytecode) # translated code"
   ]
  },
  {
   "cell_type": "code",
   "execution_count": 18,
   "metadata": {},
   "outputs": [],
   "source": [
    "program = \\\n",
    "'''\n",
    "a := 4; \n",
    "b := 5; \n",
    "while (a <= 10) do \n",
    "{ \n",
    "    put a; \n",
    "    a:= a + 1; \n",
    "}\n",
    "end\n",
    "'''"
   ]
  },
  {
   "cell_type": "code",
   "execution_count": 19,
   "metadata": {},
   "outputs": [
    {
     "name": "stdout",
     "output_type": "stream",
     "text": [
      "\n",
      "(seq \n",
      "  |(assign a \n",
      "  |  |(integer 4)) \n",
      "  |(seq \n",
      "  |  |(assign b \n",
      "  |  |  |(integer 5)) \n",
      "  |  |(seq \n",
      "  |  |  |(while \n",
      "  |  |  |  |(<= \n",
      "  |  |  |  |  |(id a) \n",
      "  |  |  |  |  |(integer 10)) \n",
      "  |  |  |  |(block \n",
      "  |  |  |  |  |(seq \n",
      "  |  |  |  |  |  |(put \n",
      "  |  |  |  |  |  |  |(id a)) \n",
      "  |  |  |  |  |  |(seq \n",
      "  |  |  |  |  |  |  |(assign a \n",
      "  |  |  |  |  |  |  |  |(+ \n",
      "  |  |  |  |  |  |  |  |  |(id a) \n",
      "  |  |  |  |  |  |  |  |  |(integer 1))) \n",
      "  |  |  |  |  |  |  |(nil))))) \n",
      "  |  |  |(nil))))\n"
     ]
    }
   ],
   "source": [
    "parser.parse(program, lexer = lexer)\n",
    "dump_AST(state.AST)"
   ]
  },
  {
   "cell_type": "code",
   "execution_count": 20,
   "metadata": {},
   "outputs": [
    {
     "name": "stdout",
     "output_type": "stream",
     "text": [
      "a 10 ('id', 'a') ('integer', 10)\n",
      "a 1 ('id', 'a') ('integer', 1)\n",
      "[('iconst_4',),\n",
      " ('istore_0',),\n",
      " ('iconst_5',),\n",
      " ('istore_1',),\n",
      " ('L3:',),\n",
      " ('iload_0',),\n",
      " ('iconst_10',),\n",
      " ('if_icmpgt\\tL5',),\n",
      " ('L4:',),\n",
      " ('invokevirtual',),\n",
      " ('iload_1',),\n",
      " ('iload_2',),\n",
      " ('iadd',),\n",
      " ('istore_2',),\n",
      " ('return',),\n",
      " ('goto\\tL3',),\n",
      " ('L5:',),\n",
      " ('return',)]\n"
     ]
    }
   ],
   "source": [
    "instr_tuples = codegen(state.AST)\n",
    "pprint(instr_tuples, width = 20)"
   ]
  },
  {
   "cell_type": "code",
   "execution_count": 21,
   "metadata": {
    "scrolled": true
   },
   "outputs": [
    {
     "name": "stdout",
     "output_type": "stream",
     "text": [
      "\t0: iconst_4 \n",
      "\t1: istore_0 \n",
      "\t2: iconst_5 \n",
      "\t3: istore_1 \n",
      "L3:\n",
      "\t4: iload_0 \n",
      "\t5: iconst_10 \n",
      "\t6: if_icmpgt\tL5 \n",
      "L4:\n",
      "\t7: invokevirtual \n",
      "\t8: iload_1 \n",
      "\t9: iload_2 \n",
      "\t10: iadd \n",
      "\t11: istore_2 \n",
      "\t12: return \n",
      "\t13: goto\tL3 \n",
      "L5:\n",
      "\t14: return \n",
      "\n"
     ]
    }
   ],
   "source": [
    "jvmbytecode = output(instr_tuples)\n",
    "print(jvmbytecode) # translated code"
   ]
  },
  {
   "cell_type": "code",
   "execution_count": null,
   "metadata": {},
   "outputs": [],
   "source": []
  },
  {
   "cell_type": "code",
   "execution_count": null,
   "metadata": {},
   "outputs": [],
   "source": []
  }
 ],
 "metadata": {
  "kernelspec": {
   "display_name": "Python 3",
   "language": "python",
   "name": "python3"
  },
  "language_info": {
   "codemirror_mode": {
    "name": "ipython",
    "version": 3
   },
   "file_extension": ".py",
   "mimetype": "text/x-python",
   "name": "python",
   "nbconvert_exporter": "python",
   "pygments_lexer": "ipython3",
   "version": "3.7.3"
  }
 },
 "nbformat": 4,
 "nbformat_minor": 2
}
