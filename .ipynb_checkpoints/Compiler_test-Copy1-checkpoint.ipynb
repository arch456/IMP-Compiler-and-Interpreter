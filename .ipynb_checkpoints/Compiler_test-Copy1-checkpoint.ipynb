{
 "cells": [
  {
   "cell_type": "code",
   "execution_count": 32,
   "metadata": {},
   "outputs": [],
   "source": [
    "from IMP_lex import lexer\n",
    "from IMP_frontend_gram import parser\n",
    "from IMP_state import state\n",
    "from grammar_stuff import dump_AST\n",
    "from IMP_compiler_codegen import walk as codegen\n",
    "from IMP_cc_output import output\n",
    "from pprint import pprint"
   ]
  },
  {
   "cell_type": "code",
   "execution_count": 33,
   "metadata": {},
   "outputs": [],
   "source": [
    "program1 = \\\n",
    "'''\n",
    "x := 1;\n",
    "print x;\n",
    "'''"
   ]
  },
  {
   "cell_type": "code",
   "execution_count": 34,
   "metadata": {
    "scrolled": true
   },
   "outputs": [
    {
     "name": "stdout",
     "output_type": "stream",
     "text": [
      "\n",
      "(seq \n",
      "  |(assign x \n",
      "  |  |(integer 1)) \n",
      "  |(seq \n",
      "  |  |(print \n",
      "  |  |  |(id x)) \n",
      "  |  |(nil)))\n"
     ]
    }
   ],
   "source": [
    "parser.parse(program1, lexer = lexer)\n",
    "dump_AST(state.AST)"
   ]
  },
  {
   "cell_type": "code",
   "execution_count": 35,
   "metadata": {},
   "outputs": [
    {
     "name": "stdout",
     "output_type": "stream",
     "text": [
      "[('iconst_1',),\n",
      " ('istore_0',),\n",
      " ('invokevirtual        '\n",
      "  'java/io/PrintStream.println:(Ljava/lang/String;)V',)]\n"
     ]
    }
   ],
   "source": [
    "instr_tuples = codegen(state.AST)\n",
    "pprint(instr_tuples, width = 20)"
   ]
  },
  {
   "cell_type": "code",
   "execution_count": 36,
   "metadata": {},
   "outputs": [
    {
     "name": "stdout",
     "output_type": "stream",
     "text": [
      "\t0: iconst_1 \n",
      "\t1: istore_0 \n",
      "\t2: invokevirtual        java/io/PrintStream.println:(Ljava/lang/String;)V \n",
      "\n"
     ]
    }
   ],
   "source": [
    "jvmbytecode1 = output(instr_tuples)\n",
    "print(jvmbytecode1) # translated code"
   ]
  },
  {
   "cell_type": "code",
   "execution_count": 37,
   "metadata": {},
   "outputs": [],
   "source": [
    "program2 = \\\n",
    "'''\n",
    "input x;\n",
    "print x;\n",
    "'''"
   ]
  },
  {
   "cell_type": "code",
   "execution_count": 38,
   "metadata": {},
   "outputs": [
    {
     "name": "stdout",
     "output_type": "stream",
     "text": [
      "\n",
      "(seq \n",
      "  |(input x) \n",
      "  |(seq \n",
      "  |  |(print \n",
      "  |  |  |(id x)) \n",
      "  |  |(nil)))\n"
     ]
    }
   ],
   "source": [
    "parser.parse(program2, lexer = lexer)\n",
    "dump_AST(state.AST)"
   ]
  },
  {
   "cell_type": "code",
   "execution_count": 39,
   "metadata": {},
   "outputs": [
    {
     "name": "stdout",
     "output_type": "stream",
     "text": [
      "4\n",
      "[('invokevirtual        '\n",
      "  'java/util/Scanner.nextInt()I',),\n",
      " ('istore_0',),\n",
      " ('invokevirtual        '\n",
      "  'java/io/PrintStream.println:(Ljava/lang/String;)V',)]\n"
     ]
    }
   ],
   "source": [
    "instr_tuples = codegen(state.AST)\n",
    "pprint(instr_tuples, width = 20)"
   ]
  },
  {
   "cell_type": "code",
   "execution_count": 40,
   "metadata": {},
   "outputs": [
    {
     "name": "stdout",
     "output_type": "stream",
     "text": [
      "\t0: invokevirtual        java/util/Scanner.nextInt()I \n",
      "\t1: istore_0 \n",
      "\t2: invokevirtual        java/io/PrintStream.println:(Ljava/lang/String;)V \n",
      "\n"
     ]
    }
   ],
   "source": [
    "jvmbytecode2 = output(instr_tuples)\n",
    "print(jvmbytecode2) # translated code"
   ]
  },
  {
   "cell_type": "code",
   "execution_count": 41,
   "metadata": {},
   "outputs": [],
   "source": [
    "program3 = \\\n",
    "'''\n",
    "a := 4; \n",
    "b := 5; \n",
    "c := a + b; \n",
    "print c;\n",
    "'''"
   ]
  },
  {
   "cell_type": "code",
   "execution_count": 42,
   "metadata": {
    "scrolled": true
   },
   "outputs": [
    {
     "name": "stdout",
     "output_type": "stream",
     "text": [
      "\n",
      "(seq \n",
      "  |(assign a \n",
      "  |  |(integer 4)) \n",
      "  |(seq \n",
      "  |  |(assign b \n",
      "  |  |  |(integer 5)) \n",
      "  |  |(seq \n",
      "  |  |  |(assign c \n",
      "  |  |  |  |(+ \n",
      "  |  |  |  |  |(id a) \n",
      "  |  |  |  |  |(id b))) \n",
      "  |  |  |(seq \n",
      "  |  |  |  |(print \n",
      "  |  |  |  |  |(id c)) \n",
      "  |  |  |  |(nil)))))\n"
     ]
    }
   ],
   "source": [
    "parser.parse(program3, lexer = lexer)\n",
    "dump_AST(state.AST)"
   ]
  },
  {
   "cell_type": "code",
   "execution_count": 43,
   "metadata": {},
   "outputs": [
    {
     "name": "stdout",
     "output_type": "stream",
     "text": [
      "[('iconst_4',),\n",
      " ('istore_0',),\n",
      " ('iconst_5',),\n",
      " ('istore_1',),\n",
      " ('iload_0',),\n",
      " ('iload_1',),\n",
      " ('iadd',),\n",
      " ('istore_2',),\n",
      " ('invokevirtual        '\n",
      "  'java/io/PrintStream.println:(Ljava/lang/String;)V',)]\n"
     ]
    }
   ],
   "source": [
    "instr_tuples = codegen(state.AST)\n",
    "pprint(instr_tuples, width = 20)"
   ]
  },
  {
   "cell_type": "code",
   "execution_count": 44,
   "metadata": {},
   "outputs": [
    {
     "name": "stdout",
     "output_type": "stream",
     "text": [
      "\t0: iconst_4 \n",
      "\t1: istore_0 \n",
      "\t2: iconst_5 \n",
      "\t3: istore_1 \n",
      "\t4: iload_0 \n",
      "\t5: iload_1 \n",
      "\t6: iadd \n",
      "\t7: istore_2 \n",
      "\t8: invokevirtual        java/io/PrintStream.println:(Ljava/lang/String;)V \n",
      "\n"
     ]
    }
   ],
   "source": [
    "jvmbytecode = output(instr_tuples)\n",
    "print(jvmbytecode) # translated code"
   ]
  },
  {
   "cell_type": "code",
   "execution_count": 45,
   "metadata": {},
   "outputs": [],
   "source": [
    "program = \\\n",
    "'''\n",
    "i := 0;\n",
    "while(i < 2) do\n",
    "{\n",
    "        i := i + 1;\n",
    "}\n",
    "end\n",
    "'''"
   ]
  },
  {
   "cell_type": "code",
   "execution_count": 46,
   "metadata": {},
   "outputs": [
    {
     "name": "stdout",
     "output_type": "stream",
     "text": [
      "\n",
      "(seq \n",
      "  |(assign i \n",
      "  |  |(integer 0)) \n",
      "  |(seq \n",
      "  |  |(while \n",
      "  |  |  |(< \n",
      "  |  |  |  |(id i) \n",
      "  |  |  |  |(integer 2)) \n",
      "  |  |  |(block \n",
      "  |  |  |  |(seq \n",
      "  |  |  |  |  |(assign i \n",
      "  |  |  |  |  |  |(+ \n",
      "  |  |  |  |  |  |  |(id i) \n",
      "  |  |  |  |  |  |  |(integer 1))) \n",
      "  |  |  |  |  |(nil)))) \n",
      "  |  |(nil)))\n"
     ]
    }
   ],
   "source": [
    "parser.parse(program, lexer = lexer)\n",
    "dump_AST(state.AST)"
   ]
  },
  {
   "cell_type": "code",
   "execution_count": 47,
   "metadata": {},
   "outputs": [
    {
     "name": "stdout",
     "output_type": "stream",
     "text": [
      "[('iconst_0',),\n",
      " ('istore_0',),\n",
      " ('L7:',),\n",
      " ('iload_0',),\n",
      " ('iconst_2',),\n",
      " ('if_icmpge\\tL9',),\n",
      " ('L8:',),\n",
      " ('iload_1',),\n",
      " ('iload_2',),\n",
      " ('iadd',),\n",
      " ('istore_1',),\n",
      " ('goto\\tL7',),\n",
      " ('L9:',),\n",
      " ('return',)]\n"
     ]
    }
   ],
   "source": [
    "instr_tuples = codegen(state.AST)\n",
    "pprint(instr_tuples, width = 20)"
   ]
  },
  {
   "cell_type": "code",
   "execution_count": 48,
   "metadata": {
    "scrolled": true
   },
   "outputs": [
    {
     "name": "stdout",
     "output_type": "stream",
     "text": [
      "\t0: iconst_0 \n",
      "\t1: istore_0 \n",
      "L7:\n",
      "\t2: iload_0 \n",
      "\t3: iconst_2 \n",
      "\t4: if_icmpge\tL9 \n",
      "L8:\n",
      "\t5: iload_1 \n",
      "\t6: iload_2 \n",
      "\t7: iadd \n",
      "\t8: istore_1 \n",
      "\t9: goto\tL7 \n",
      "L9:\n",
      "\t10: return \n",
      "\n"
     ]
    }
   ],
   "source": [
    "jvmbytecode = output(instr_tuples)\n",
    "print(jvmbytecode) # translated code"
   ]
  },
  {
   "cell_type": "code",
   "execution_count": 49,
   "metadata": {},
   "outputs": [],
   "source": [
    "program = \\\n",
    "'''\n",
    "a := 4; \n",
    "b := 5; \n",
    "while (a <= 10) do \n",
    "{ \n",
    "    print a; \n",
    "    a:= a + 1; \n",
    "}\n",
    "end\n",
    "'''"
   ]
  },
  {
   "cell_type": "code",
   "execution_count": 50,
   "metadata": {},
   "outputs": [
    {
     "name": "stdout",
     "output_type": "stream",
     "text": [
      "\n",
      "(seq \n",
      "  |(assign a \n",
      "  |  |(integer 4)) \n",
      "  |(seq \n",
      "  |  |(assign b \n",
      "  |  |  |(integer 5)) \n",
      "  |  |(seq \n",
      "  |  |  |(while \n",
      "  |  |  |  |(<= \n",
      "  |  |  |  |  |(id a) \n",
      "  |  |  |  |  |(integer 10)) \n",
      "  |  |  |  |(block \n",
      "  |  |  |  |  |(seq \n",
      "  |  |  |  |  |  |(print \n",
      "  |  |  |  |  |  |  |(id a)) \n",
      "  |  |  |  |  |  |(seq \n",
      "  |  |  |  |  |  |  |(assign a \n",
      "  |  |  |  |  |  |  |  |(+ \n",
      "  |  |  |  |  |  |  |  |  |(id a) \n",
      "  |  |  |  |  |  |  |  |  |(integer 1))) \n",
      "  |  |  |  |  |  |  |(nil))))) \n",
      "  |  |  |(nil))))\n"
     ]
    }
   ],
   "source": [
    "parser.parse(program, lexer = lexer)\n",
    "dump_AST(state.AST)"
   ]
  },
  {
   "cell_type": "code",
   "execution_count": 51,
   "metadata": {
    "scrolled": true
   },
   "outputs": [
    {
     "name": "stdout",
     "output_type": "stream",
     "text": [
      "[('iconst_4',),\n",
      " ('istore_0',),\n",
      " ('iconst_5',),\n",
      " ('istore_1',),\n",
      " ('L10:',),\n",
      " ('iload_0',),\n",
      " ('iconst_10',),\n",
      " ('if_icmpgt\\t'\n",
      "  'L12',),\n",
      " ('L11:',),\n",
      " ('invokevirtual        '\n",
      "  'java/io/PrintStream.println:(Ljava/lang/String;)V',),\n",
      " ('iload_1',),\n",
      " ('iload_2',),\n",
      " ('iadd',),\n",
      " ('istore_2',),\n",
      " ('goto\\tL10',),\n",
      " ('L12:',),\n",
      " ('return',)]\n"
     ]
    }
   ],
   "source": [
    "instr_tuples = codegen(state.AST)\n",
    "pprint(instr_tuples, width = 20)"
   ]
  },
  {
   "cell_type": "code",
   "execution_count": 52,
   "metadata": {
    "scrolled": true
   },
   "outputs": [
    {
     "name": "stdout",
     "output_type": "stream",
     "text": [
      "\t0: iconst_4 \n",
      "\t1: istore_0 \n",
      "\t2: iconst_5 \n",
      "\t3: istore_1 \n",
      "L10:\n",
      "\t4: iload_0 \n",
      "\t5: iconst_10 \n",
      "\t6: if_icmpgt\tL12 \n",
      "L11:\n",
      "\t7: invokevirtual        java/io/PrintStream.println:(Ljava/lang/String;)V \n",
      "\t8: iload_1 \n",
      "\t9: iload_2 \n",
      "\t10: iadd \n",
      "\t11: istore_2 \n",
      "\t12: goto\tL10 \n",
      "L12:\n",
      "\t13: return \n",
      "\n"
     ]
    }
   ],
   "source": [
    "jvmbytecode = output(instr_tuples)\n",
    "print(jvmbytecode) # translated code"
   ]
  },
  {
   "cell_type": "code",
   "execution_count": 53,
   "metadata": {},
   "outputs": [],
   "source": [
    "program = \\\n",
    "'''\n",
    "a := 4; \n",
    "b := 5; \n",
    "if (a > b) then\n",
    "{ \n",
    "print b;\n",
    "}\n",
    "end\n",
    "'''"
   ]
  },
  {
   "cell_type": "code",
   "execution_count": 54,
   "metadata": {},
   "outputs": [
    {
     "name": "stdout",
     "output_type": "stream",
     "text": [
      "\n",
      "(seq \n",
      "  |(assign a \n",
      "  |  |(integer 4)) \n",
      "  |(seq \n",
      "  |  |(assign b \n",
      "  |  |  |(integer 5)) \n",
      "  |  |(seq \n",
      "  |  |  |(if \n",
      "  |  |  |  |(> \n",
      "  |  |  |  |  |(id a) \n",
      "  |  |  |  |  |(id b)) \n",
      "  |  |  |  |(block \n",
      "  |  |  |  |  |(seq \n",
      "  |  |  |  |  |  |(print \n",
      "  |  |  |  |  |  |  |(id b)) \n",
      "  |  |  |  |  |  |(nil))) \n",
      "  |  |  |  |(nil)) \n",
      "  |  |  |(nil))))\n"
     ]
    }
   ],
   "source": [
    "parser.parse(program, lexer = lexer)\n",
    "dump_AST(state.AST)"
   ]
  },
  {
   "cell_type": "code",
   "execution_count": 55,
   "metadata": {},
   "outputs": [
    {
     "name": "stdout",
     "output_type": "stream",
     "text": [
      "[('iconst_4',),\n",
      " ('istore_0',),\n",
      " ('iconst_5',),\n",
      " ('istore_1',),\n",
      " ('if_icmple\\t'\n",
      "  'L13',),\n",
      " ('iload_0',),\n",
      " ('iload_1',),\n",
      " ('invokevirtual        '\n",
      "  'java/io/PrintStream.println:(Ljava/lang/String;)V',),\n",
      " ('L13:',),\n",
      " ('return',)]\n"
     ]
    }
   ],
   "source": [
    "instr_tuples = codegen(state.AST)\n",
    "pprint(instr_tuples, width = 20)"
   ]
  },
  {
   "cell_type": "code",
   "execution_count": 56,
   "metadata": {
    "scrolled": true
   },
   "outputs": [
    {
     "name": "stdout",
     "output_type": "stream",
     "text": [
      "\t0: iconst_4 \n",
      "\t1: istore_0 \n",
      "\t2: iconst_5 \n",
      "\t3: istore_1 \n",
      "\t4: if_icmple\tL13 \n",
      "\t5: iload_0 \n",
      "\t6: iload_1 \n",
      "\t7: invokevirtual        java/io/PrintStream.println:(Ljava/lang/String;)V \n",
      "L13:\n",
      "\t8: return \n",
      "\n"
     ]
    }
   ],
   "source": [
    "jvmbytecode = output(instr_tuples)\n",
    "print(jvmbytecode) # translated code"
   ]
  },
  {
   "cell_type": "code",
   "execution_count": 59,
   "metadata": {},
   "outputs": [],
   "source": [
    "program = \\\n",
    "'''\n",
    "a := 4; \n",
    "b := 5; \n",
    "if (a > b) then\n",
    "{ \n",
    "print b;\n",
    "}\n",
    "else \n",
    "{ \n",
    "print a; \n",
    "} \n",
    "end\n",
    "'''"
   ]
  },
  {
   "cell_type": "code",
   "execution_count": 60,
   "metadata": {},
   "outputs": [
    {
     "name": "stdout",
     "output_type": "stream",
     "text": [
      "\n",
      "(seq \n",
      "  |(assign a \n",
      "  |  |(integer 4)) \n",
      "  |(seq \n",
      "  |  |(assign b \n",
      "  |  |  |(integer 5)) \n",
      "  |  |(seq \n",
      "  |  |  |(if \n",
      "  |  |  |  |(> \n",
      "  |  |  |  |  |(id a) \n",
      "  |  |  |  |  |(id b)) \n",
      "  |  |  |  |(block \n",
      "  |  |  |  |  |(seq \n",
      "  |  |  |  |  |  |(print \n",
      "  |  |  |  |  |  |  |(id b)) \n",
      "  |  |  |  |  |  |(nil))) \n",
      "  |  |  |  |(block \n",
      "  |  |  |  |  |(seq \n",
      "  |  |  |  |  |  |(print \n",
      "  |  |  |  |  |  |  |(id a)) \n",
      "  |  |  |  |  |  |(nil)))) \n",
      "  |  |  |(nil))))\n"
     ]
    }
   ],
   "source": [
    "parser.parse(program, lexer = lexer)\n",
    "dump_AST(state.AST)"
   ]
  },
  {
   "cell_type": "code",
   "execution_count": 61,
   "metadata": {},
   "outputs": [
    {
     "name": "stdout",
     "output_type": "stream",
     "text": [
      "[('iconst_4',),\n",
      " ('istore_0',),\n",
      " ('iconst_5',),\n",
      " ('istore_1',),\n",
      " ('if_icmple\\t'\n",
      "  'L14',),\n",
      " ('iload_0',),\n",
      " ('iload_1',),\n",
      " ('invokevirtual        '\n",
      "  'java/io/PrintStream.println:(Ljava/lang/String;)V',),\n",
      " ('return',),\n",
      " ('invokevirtual        '\n",
      "  'java/io/PrintStream.println:(Ljava/lang/String;)V',),\n",
      " ('L14:',),\n",
      " ('return',)]\n"
     ]
    }
   ],
   "source": [
    "instr_tuples = codegen(state.AST)\n",
    "pprint(instr_tuples, width = 20)"
   ]
  },
  {
   "cell_type": "code",
   "execution_count": 62,
   "metadata": {},
   "outputs": [
    {
     "name": "stdout",
     "output_type": "stream",
     "text": [
      "\t0: iconst_4 \n",
      "\t1: istore_0 \n",
      "\t2: iconst_5 \n",
      "\t3: istore_1 \n",
      "\t4: if_icmple\tL14 \n",
      "\t5: iload_0 \n",
      "\t6: iload_1 \n",
      "\t7: invokevirtual        java/io/PrintStream.println:(Ljava/lang/String;)V \n",
      "\t8: return \n",
      "\t9: invokevirtual        java/io/PrintStream.println:(Ljava/lang/String;)V \n",
      "L14:\n",
      "\t10: return \n",
      "\n"
     ]
    }
   ],
   "source": [
    "jvmbytecode = output(instr_tuples)\n",
    "print(jvmbytecode) # translated code"
   ]
  },
  {
   "cell_type": "code",
   "execution_count": 68,
   "metadata": {},
   "outputs": [],
   "source": [
    "program = \\\n",
    "'''\n",
    "input a;\n",
    "input b;\n",
    "input c;\n",
    "if (a > b) then\n",
    "{ \n",
    " if (a > c) then\n",
    " {\n",
    "    print b;\n",
    " }\n",
    " else\n",
    " {\n",
    "    print c;\n",
    " }\n",
    " end   \n",
    "}\n",
    "else \n",
    "{ \n",
    " if (b > c) then\n",
    " {\n",
    "    print b;\n",
    " }   \n",
    " else\n",
    " {\n",
    "    print c;\n",
    " }\n",
    " end   \n",
    "} \n",
    "end\n",
    "'''\n"
   ]
  },
  {
   "cell_type": "code",
   "execution_count": 69,
   "metadata": {},
   "outputs": [
    {
     "name": "stdout",
     "output_type": "stream",
     "text": [
      "\n",
      "(seq \n",
      "  |(input a) \n",
      "  |(seq \n",
      "  |  |(input b) \n",
      "  |  |(seq \n",
      "  |  |  |(input c) \n",
      "  |  |  |(seq \n",
      "  |  |  |  |(if \n",
      "  |  |  |  |  |(> \n",
      "  |  |  |  |  |  |(id a) \n",
      "  |  |  |  |  |  |(id b)) \n",
      "  |  |  |  |  |(block \n",
      "  |  |  |  |  |  |(seq \n",
      "  |  |  |  |  |  |  |(if \n",
      "  |  |  |  |  |  |  |  |(> \n",
      "  |  |  |  |  |  |  |  |  |(id a) \n",
      "  |  |  |  |  |  |  |  |  |(id c)) \n",
      "  |  |  |  |  |  |  |  |(block \n",
      "  |  |  |  |  |  |  |  |  |(seq \n",
      "  |  |  |  |  |  |  |  |  |  |(print \n",
      "  |  |  |  |  |  |  |  |  |  |  |(id b)) \n",
      "  |  |  |  |  |  |  |  |  |  |(nil))) \n",
      "  |  |  |  |  |  |  |  |(block \n",
      "  |  |  |  |  |  |  |  |  |(seq \n",
      "  |  |  |  |  |  |  |  |  |  |(print \n",
      "  |  |  |  |  |  |  |  |  |  |  |(id c)) \n",
      "  |  |  |  |  |  |  |  |  |  |(nil)))) \n",
      "  |  |  |  |  |  |  |(nil))) \n",
      "  |  |  |  |  |(block \n",
      "  |  |  |  |  |  |(seq \n",
      "  |  |  |  |  |  |  |(if \n",
      "  |  |  |  |  |  |  |  |(> \n",
      "  |  |  |  |  |  |  |  |  |(id b) \n",
      "  |  |  |  |  |  |  |  |  |(id c)) \n",
      "  |  |  |  |  |  |  |  |(block \n",
      "  |  |  |  |  |  |  |  |  |(seq \n",
      "  |  |  |  |  |  |  |  |  |  |(print \n",
      "  |  |  |  |  |  |  |  |  |  |  |(id b)) \n",
      "  |  |  |  |  |  |  |  |  |  |(nil))) \n",
      "  |  |  |  |  |  |  |  |(block \n",
      "  |  |  |  |  |  |  |  |  |(seq \n",
      "  |  |  |  |  |  |  |  |  |  |(print \n",
      "  |  |  |  |  |  |  |  |  |  |  |(id c)) \n",
      "  |  |  |  |  |  |  |  |  |  |(nil)))) \n",
      "  |  |  |  |  |  |  |(nil)))) \n",
      "  |  |  |  |(nil)))))\n"
     ]
    }
   ],
   "source": [
    "parser.parse(program, lexer = lexer)\n",
    "dump_AST(state.AST)"
   ]
  },
  {
   "cell_type": "code",
   "execution_count": 70,
   "metadata": {
    "scrolled": true
   },
   "outputs": [
    {
     "name": "stdout",
     "output_type": "stream",
     "text": [
      "4\n",
      "5\n",
      "6\n",
      "[('invokevirtual        '\n",
      "  'java/util/Scanner.nextInt()I',),\n",
      " ('istore_0',),\n",
      " ('invokevirtual        '\n",
      "  'java/util/Scanner.nextInt()I',),\n",
      " ('istore_1',),\n",
      " ('invokevirtual        '\n",
      "  'java/util/Scanner.nextInt()I',),\n",
      " ('istore_2',),\n",
      " ('if_icmple\\t'\n",
      "  'L15',),\n",
      " ('iload_0',),\n",
      " ('iload_1',),\n",
      " ('if_icmple\\t'\n",
      "  'L16',),\n",
      " ('iload_2',),\n",
      " ('iload_3',),\n",
      " ('invokevirtual        '\n",
      "  'java/io/PrintStream.println:(Ljava/lang/String;)V',),\n",
      " ('return',),\n",
      " ('invokevirtual        '\n",
      "  'java/io/PrintStream.println:(Ljava/lang/String;)V',),\n",
      " ('L16:',),\n",
      " ('return',),\n",
      " ('return',),\n",
      " ('if_icmple\\t'\n",
      "  'L17',),\n",
      " ('iload_0',),\n",
      " ('iload_1',),\n",
      " ('invokevirtual        '\n",
      "  'java/io/PrintStream.println:(Ljava/lang/String;)V',),\n",
      " ('return',),\n",
      " ('invokevirtual        '\n",
      "  'java/io/PrintStream.println:(Ljava/lang/String;)V',),\n",
      " ('L17:',),\n",
      " ('return',),\n",
      " ('L15:',),\n",
      " ('return',)]\n"
     ]
    }
   ],
   "source": [
    "instr_tuples = codegen(state.AST)\n",
    "pprint(instr_tuples, width = 20)"
   ]
  },
  {
   "cell_type": "code",
   "execution_count": 71,
   "metadata": {},
   "outputs": [
    {
     "name": "stdout",
     "output_type": "stream",
     "text": [
      "\t0: invokevirtual        java/util/Scanner.nextInt()I \n",
      "\t1: istore_0 \n",
      "\t2: invokevirtual        java/util/Scanner.nextInt()I \n",
      "\t3: istore_1 \n",
      "\t4: invokevirtual        java/util/Scanner.nextInt()I \n",
      "\t5: istore_2 \n",
      "\t6: if_icmple\tL15 \n",
      "\t7: iload_0 \n",
      "\t8: iload_1 \n",
      "\t9: if_icmple\tL16 \n",
      "\t10: iload_2 \n",
      "\t11: iload_3 \n",
      "\t12: invokevirtual        java/io/PrintStream.println:(Ljava/lang/String;)V \n",
      "\t13: return \n",
      "\t14: invokevirtual        java/io/PrintStream.println:(Ljava/lang/String;)V \n",
      "L16:\n",
      "\t15: return \n",
      "\t16: return \n",
      "\t17: if_icmple\tL17 \n",
      "\t18: iload_0 \n",
      "\t19: iload_1 \n",
      "\t20: invokevirtual        java/io/PrintStream.println:(Ljava/lang/String;)V \n",
      "\t21: return \n",
      "\t22: invokevirtual        java/io/PrintStream.println:(Ljava/lang/String;)V \n",
      "L17:\n",
      "\t23: return \n",
      "L15:\n",
      "\t24: return \n",
      "\n"
     ]
    }
   ],
   "source": [
    "jvmbytecode = output(instr_tuples)\n",
    "print(jvmbytecode) # translated code"
   ]
  },
  {
   "cell_type": "code",
   "execution_count": null,
   "metadata": {},
   "outputs": [],
   "source": []
  }
 ],
 "metadata": {
  "kernelspec": {
   "display_name": "Python 3",
   "language": "python",
   "name": "python3"
  },
  "language_info": {
   "codemirror_mode": {
    "name": "ipython",
    "version": 3
   },
   "file_extension": ".py",
   "mimetype": "text/x-python",
   "name": "python",
   "nbconvert_exporter": "python",
   "pygments_lexer": "ipython3",
   "version": "3.7.3"
  }
 },
 "nbformat": 4,
 "nbformat_minor": 2
}
